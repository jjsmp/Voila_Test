{
 "cells": [
  {
   "cell_type": "code",
   "execution_count": 1,
   "id": "fc671ccd",
   "metadata": {},
   "outputs": [],
   "source": [
    "import pandas as pd\n",
    "import numpy as np\n",
    "import openpyxl #leer xlsx\n",
    "\n",
    "import folium\n",
    "from folium.plugins import MeasureControl, MiniMap, HeatMap, FastMarkerCluster\n",
    "import pandas as pd\n",
    "import geopandas as gpd\n",
    "import voila"
   ]
  },
  {
   "cell_type": "code",
   "execution_count": 2,
   "id": "4708cde8",
   "metadata": {},
   "outputs": [
    {
     "data": {
      "text/plain": [
       "<module 'voila' from 'C:\\\\Users\\\\Juan San Martin\\\\anaconda3\\\\envs\\\\HyperLocal\\\\lib\\\\site-packages\\\\voila\\\\__init__.py'>"
      ]
     },
     "execution_count": 2,
     "metadata": {},
     "output_type": "execute_result"
    }
   ],
   "source": [
    "voila\n",
    "#notebook.ipynb\n"
   ]
  },
  {
   "cell_type": "code",
   "execution_count": 3,
   "id": "cb5793ff",
   "metadata": {},
   "outputs": [
    {
     "data": {
      "text/html": [
       "<div style=\"width:100%;\"><div style=\"position:relative;width:100%;height:0;padding-bottom:60%;\"><span style=\"color:#565656\">Make this Notebook Trusted to load map: File -> Trust Notebook</span><iframe srcdoc=\"&lt;!DOCTYPE html&gt;\n",
       "&lt;html&gt;\n",
       "&lt;head&gt;\n",
       "    \n",
       "    &lt;meta http-equiv=&quot;content-type&quot; content=&quot;text/html; charset=UTF-8&quot; /&gt;\n",
       "    \n",
       "        &lt;script&gt;\n",
       "            L_NO_TOUCH = false;\n",
       "            L_DISABLE_3D = false;\n",
       "        &lt;/script&gt;\n",
       "    \n",
       "    &lt;style&gt;html, body {width: 100%;height: 100%;margin: 0;padding: 0;}&lt;/style&gt;\n",
       "    &lt;style&gt;#map {position:absolute;top:0;bottom:0;right:0;left:0;}&lt;/style&gt;\n",
       "    &lt;script src=&quot;https://cdn.jsdelivr.net/npm/leaflet@1.9.3/dist/leaflet.js&quot;&gt;&lt;/script&gt;\n",
       "    &lt;script src=&quot;https://code.jquery.com/jquery-1.12.4.min.js&quot;&gt;&lt;/script&gt;\n",
       "    &lt;script src=&quot;https://cdn.jsdelivr.net/npm/bootstrap@5.2.2/dist/js/bootstrap.bundle.min.js&quot;&gt;&lt;/script&gt;\n",
       "    &lt;script src=&quot;https://cdnjs.cloudflare.com/ajax/libs/Leaflet.awesome-markers/2.0.2/leaflet.awesome-markers.js&quot;&gt;&lt;/script&gt;\n",
       "    &lt;link rel=&quot;stylesheet&quot; href=&quot;https://cdn.jsdelivr.net/npm/leaflet@1.9.3/dist/leaflet.css&quot;/&gt;\n",
       "    &lt;link rel=&quot;stylesheet&quot; href=&quot;https://cdn.jsdelivr.net/npm/bootstrap@5.2.2/dist/css/bootstrap.min.css&quot;/&gt;\n",
       "    &lt;link rel=&quot;stylesheet&quot; href=&quot;https://netdna.bootstrapcdn.com/bootstrap/3.0.0/css/bootstrap.min.css&quot;/&gt;\n",
       "    &lt;link rel=&quot;stylesheet&quot; href=&quot;https://cdn.jsdelivr.net/npm/@fortawesome/fontawesome-free@6.2.0/css/all.min.css&quot;/&gt;\n",
       "    &lt;link rel=&quot;stylesheet&quot; href=&quot;https://cdnjs.cloudflare.com/ajax/libs/Leaflet.awesome-markers/2.0.2/leaflet.awesome-markers.css&quot;/&gt;\n",
       "    &lt;link rel=&quot;stylesheet&quot; href=&quot;https://cdn.jsdelivr.net/gh/python-visualization/folium/folium/templates/leaflet.awesome.rotate.min.css&quot;/&gt;\n",
       "    \n",
       "            &lt;meta name=&quot;viewport&quot; content=&quot;width=device-width,\n",
       "                initial-scale=1.0, maximum-scale=1.0, user-scalable=no&quot; /&gt;\n",
       "            &lt;style&gt;\n",
       "                #map_2a0397a70799e8530b49e84946315ea0 {\n",
       "                    position: relative;\n",
       "                    width: 100.0%;\n",
       "                    height: 100.0%;\n",
       "                    left: 0.0%;\n",
       "                    top: 0.0%;\n",
       "                }\n",
       "                .leaflet-container { font-size: 1rem; }\n",
       "            &lt;/style&gt;\n",
       "        \n",
       "&lt;/head&gt;\n",
       "&lt;body&gt;\n",
       "    \n",
       "    \n",
       "            &lt;div class=&quot;folium-map&quot; id=&quot;map_2a0397a70799e8530b49e84946315ea0&quot; &gt;&lt;/div&gt;\n",
       "        \n",
       "&lt;/body&gt;\n",
       "&lt;script&gt;\n",
       "    \n",
       "    \n",
       "            var map_2a0397a70799e8530b49e84946315ea0 = L.map(\n",
       "                &quot;map_2a0397a70799e8530b49e84946315ea0&quot;,\n",
       "                {\n",
       "                    center: [-33.437778, -70.650278],\n",
       "                    crs: L.CRS.EPSG3857,\n",
       "                    zoom: 10,\n",
       "                    zoomControl: true,\n",
       "                    preferCanvas: false,\n",
       "                }\n",
       "            );\n",
       "\n",
       "            \n",
       "\n",
       "        \n",
       "    \n",
       "            var tile_layer_8b5d270faefeb67c15c51d5d773383e4 = L.tileLayer(\n",
       "                &quot;https://cartodb-basemaps-{s}.global.ssl.fastly.net/dark_all/{z}/{x}/{y}.png&quot;,\n",
       "                {&quot;attribution&quot;: &quot;\\u0026copy; \\u003ca target=\\&quot;_blank\\&quot; href=\\&quot;http://www.openstreetmap.org/copyright\\&quot;\\u003eOpenStreetMap\\u003c/a\\u003e contributors \\u0026copy; \\u003ca target=\\&quot;_blank\\&quot; href=\\&quot;http://cartodb.com/attributions\\&quot;\\u003eCartoDB\\u003c/a\\u003e, CartoDB \\u003ca target=\\&quot;_blank\\&quot; href =\\&quot;http://cartodb.com/attributions\\&quot;\\u003eattributions\\u003c/a\\u003e&quot;, &quot;detectRetina&quot;: false, &quot;maxNativeZoom&quot;: 18, &quot;maxZoom&quot;: 18, &quot;minZoom&quot;: 0, &quot;noWrap&quot;: false, &quot;opacity&quot;: 1, &quot;subdomains&quot;: &quot;abc&quot;, &quot;tms&quot;: false}\n",
       "            ).addTo(map_2a0397a70799e8530b49e84946315ea0);\n",
       "        \n",
       "    \n",
       "            var marker_f7f427485f7244d41bb020e9185e3a01 = L.marker(\n",
       "                [-33.457708, -70.59607],\n",
       "                {}\n",
       "            ).addTo(map_2a0397a70799e8530b49e84946315ea0);\n",
       "        \n",
       "    \n",
       "            var icon_cdbb60745059ddb6cd50372878ea176a = L.AwesomeMarkers.icon(\n",
       "                {&quot;extraClasses&quot;: &quot;fa-rotate-0&quot;, &quot;icon&quot;: &quot;paw&quot;, &quot;iconColor&quot;: &quot;#D1D76F&quot;, &quot;markerColor&quot;: &quot;darkpurple&quot;, &quot;prefix&quot;: &quot;fa&quot;}\n",
       "            );\n",
       "            marker_f7f427485f7244d41bb020e9185e3a01.setIcon(icon_cdbb60745059ddb6cd50372878ea176a);\n",
       "        \n",
       "    \n",
       "        var popup_15b04fb29394f8b2d02d1a7213551967 = L.popup({&quot;maxWidth&quot;: &quot;100%&quot;});\n",
       "\n",
       "        \n",
       "            \n",
       "                var html_43fb3e08aff9acc3a0e0b80234684aaa = $(`&lt;div id=&quot;html_43fb3e08aff9acc3a0e0b80234684aaa&quot; style=&quot;width: 100.0%; height: 100.0%;&quot;&gt;Hola como estamos!&lt;/div&gt;`)[0];\n",
       "                popup_15b04fb29394f8b2d02d1a7213551967.setContent(html_43fb3e08aff9acc3a0e0b80234684aaa);\n",
       "            \n",
       "        \n",
       "\n",
       "        marker_f7f427485f7244d41bb020e9185e3a01.bindPopup(popup_15b04fb29394f8b2d02d1a7213551967)\n",
       "        ;\n",
       "\n",
       "        \n",
       "    \n",
       "    \n",
       "            marker_f7f427485f7244d41bb020e9185e3a01.bindTooltip(\n",
       "                `&lt;div&gt;\n",
       "                     Instituto Santa Maria\n",
       "                 &lt;/div&gt;`,\n",
       "                {&quot;sticky&quot;: true}\n",
       "            );\n",
       "        \n",
       "    \n",
       "            var circle_f9669e0553d59fe1d78b3fcf35e0e67f = L.circle(\n",
       "                [-33.457708, -70.59607],\n",
       "                {&quot;bubblingMouseEvents&quot;: true, &quot;color&quot;: &quot;crimson&quot;, &quot;dashArray&quot;: null, &quot;dashOffset&quot;: null, &quot;fill&quot;: true, &quot;fillColor&quot;: &quot;crimson&quot;, &quot;fillOpacity&quot;: 0.2, &quot;fillRule&quot;: &quot;evenodd&quot;, &quot;lineCap&quot;: &quot;round&quot;, &quot;lineJoin&quot;: &quot;round&quot;, &quot;opacity&quot;: 1.0, &quot;radius&quot;: 500, &quot;stroke&quot;: true, &quot;weight&quot;: 3}\n",
       "            ).addTo(map_2a0397a70799e8530b49e84946315ea0);\n",
       "        \n",
       "    \n",
       "        var popup_51b59c8a39b16f49eb67d61259a37e22 = L.popup({&quot;maxWidth&quot;: &quot;100%&quot;});\n",
       "\n",
       "        \n",
       "            \n",
       "                var html_5d50ae0b73f56f70297770d58c6d7f71 = $(`&lt;div id=&quot;html_5d50ae0b73f56f70297770d58c6d7f71&quot; style=&quot;width: 100.0%; height: 100.0%;&quot;&gt;Hola&lt;/div&gt;`)[0];\n",
       "                popup_51b59c8a39b16f49eb67d61259a37e22.setContent(html_5d50ae0b73f56f70297770d58c6d7f71);\n",
       "            \n",
       "        \n",
       "\n",
       "        circle_f9669e0553d59fe1d78b3fcf35e0e67f.bindPopup(popup_51b59c8a39b16f49eb67d61259a37e22)\n",
       "        ;\n",
       "\n",
       "        \n",
       "    \n",
       "&lt;/script&gt;\n",
       "&lt;/html&gt;\" style=\"position:absolute;width:100%;height:100%;left:0;top:0;border:none !important;\" allowfullscreen webkitallowfullscreen mozallowfullscreen></iframe></div></div>"
      ],
      "text/plain": [
       "<folium.folium.Map at 0x14d907caef0>"
      ]
     },
     "execution_count": 3,
     "metadata": {},
     "output_type": "execute_result"
    }
   ],
   "source": [
    "my_map = folium.Map(location=[-33.437778, -70.650278], tiles='CartoDB dark_matter', zoom_start=10)\n",
    "\n",
    "folium.Marker([-33.457708, -70.59607], popup='Hola como estamos!', tooltip='Instituto Santa Maria',\n",
    "              icon=folium.Icon(color='darkpurple', icon='paw', icon_color = '#D1D76F', angle = 0, prefix = 'fa')\n",
    ").add_to(my_map)\n",
    "\n",
    "folium.Circle(\n",
    "    radius=500, ##indicado en metros\n",
    "    location=[-33.457708, -70.59607],\n",
    "    popup='Hola',\n",
    "    color='crimson',\n",
    "    fill=True,\n",
    ").add_to(my_map)\n",
    "\n",
    "my_map"
   ]
  },
  {
   "cell_type": "code",
   "execution_count": null,
   "id": "3a463cee",
   "metadata": {},
   "outputs": [],
   "source": []
  },
  {
   "cell_type": "code",
   "execution_count": 6,
   "id": "ec9067d0",
   "metadata": {},
   "outputs": [],
   "source": []
  },
  {
   "cell_type": "code",
   "execution_count": null,
   "id": "62fb56f8",
   "metadata": {},
   "outputs": [],
   "source": []
  },
  {
   "cell_type": "code",
   "execution_count": null,
   "id": "c1c4fb29",
   "metadata": {},
   "outputs": [],
   "source": []
  },
  {
   "cell_type": "code",
   "execution_count": null,
   "id": "ea90605b",
   "metadata": {},
   "outputs": [],
   "source": []
  }
 ],
 "metadata": {
  "kernelspec": {
   "display_name": "Python 3 (ipykernel)",
   "language": "python",
   "name": "python3"
  },
  "language_info": {
   "codemirror_mode": {
    "name": "ipython",
    "version": 3
   },
   "file_extension": ".py",
   "mimetype": "text/x-python",
   "name": "python",
   "nbconvert_exporter": "python",
   "pygments_lexer": "ipython3",
   "version": "3.10.11"
  }
 },
 "nbformat": 4,
 "nbformat_minor": 5
}
